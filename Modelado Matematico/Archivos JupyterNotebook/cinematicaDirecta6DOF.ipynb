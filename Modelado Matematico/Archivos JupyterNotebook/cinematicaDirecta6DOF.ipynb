{
 "cells": [
  {
   "cell_type": "markdown",
   "metadata": {},
   "source": [
    "### Exportar los paquetes a utilizar"
   ]
  },
  {
   "cell_type": "code",
   "execution_count": 36,
   "metadata": {},
   "outputs": [],
   "source": [
    "from main import obtenerParametrosRobot,obtenerMTHArticulaciones,multiplicarMatrizRecursivamente,obtenerJacobianoArticular"
   ]
  },
  {
   "cell_type": "markdown",
   "metadata": {},
   "source": [
    "### Definir los grados de libertad"
   ]
  },
  {
   "cell_type": "code",
   "execution_count": 2,
   "metadata": {},
   "outputs": [],
   "source": [
    "n = 6"
   ]
  },
  {
   "cell_type": "markdown",
   "metadata": {},
   "source": [
    "### Obtener los parámetros DH"
   ]
  },
  {
   "cell_type": "code",
   "execution_count": 3,
   "metadata": {},
   "outputs": [],
   "source": [
    "As,Alfas,Ds,Qs = obtenerParametrosRobot(n)"
   ]
  },
  {
   "cell_type": "markdown",
   "metadata": {},
   "source": [
    "### Obtener las matrices de transformación homogénea"
   ]
  },
  {
   "cell_type": "code",
   "execution_count": 4,
   "metadata": {},
   "outputs": [],
   "source": [
    "#Crear una lista que almacene las MTH\n",
    "matricesArt = []\n",
    "#Iterar\n",
    "for i in range(n):\n",
    "    matricesArt.append(obtenerMTHArticulaciones(Alfas[i],As[i],Ds[i],Qs[i]))\n",
    "    "
   ]
  },
  {
   "cell_type": "markdown",
   "metadata": {},
   "source": [
    "### Matriz de transformación homogénea de i respecto a i-1. Desde i = 1, hasta i = 6"
   ]
  },
  {
   "cell_type": "code",
   "execution_count": 41,
   "metadata": {},
   "outputs": [],
   "source": [
    "T01 = matricesArt[0]"
   ]
  },
  {
   "cell_type": "code",
   "execution_count": 42,
   "metadata": {},
   "outputs": [
    {
     "data": {
      "text/latex": [
       "$\\displaystyle \\left[\\begin{matrix}\\cos{\\left(q_{1} \\right)} & - \\sin{\\left(q_{1} \\right)} & 0 & 0\\\\\\sin{\\left(q_{1} \\right)} & \\cos{\\left(q_{1} \\right)} & 0 & 0\\\\0 & 0 & 1 & d_{1}\\\\0 & 0 & 0 & 1\\end{matrix}\\right]$"
      ],
      "text/plain": [
       "Matrix([\n",
       "[cos(q1), -sin(q1), 0,  0],\n",
       "[sin(q1),  cos(q1), 0,  0],\n",
       "[      0,        0, 1, d1],\n",
       "[      0,        0, 0,  1]])"
      ]
     },
     "execution_count": 42,
     "metadata": {},
     "output_type": "execute_result"
    }
   ],
   "source": [
    "T01"
   ]
  },
  {
   "cell_type": "code",
   "execution_count": 38,
   "metadata": {},
   "outputs": [
    {
     "ename": "TypeError",
     "evalue": "'Add' object is not subscriptable",
     "output_type": "error",
     "traceback": [
      "\u001b[0;31m---------------------------------------------------------------------------\u001b[0m",
      "\u001b[0;31mTypeError\u001b[0m                                 Traceback (most recent call last)",
      "\u001b[0;32m<ipython-input-38-a592405743d5>\u001b[0m in \u001b[0;36m<module>\u001b[0;34m\u001b[0m\n\u001b[0;32m----> 1\u001b[0;31m \u001b[0mJ\u001b[0m \u001b[0;34m=\u001b[0m \u001b[0mobtenerJacobianoArticular\u001b[0m\u001b[0;34m(\u001b[0m\u001b[0;36m6\u001b[0m\u001b[0;34m,\u001b[0m\u001b[0mT0c\u001b[0m\u001b[0;34m,\u001b[0m\u001b[0;36m6\u001b[0m\u001b[0;34m,\u001b[0m\u001b[0;36m0\u001b[0m\u001b[0;34m)\u001b[0m\u001b[0;34m\u001b[0m\u001b[0;34m\u001b[0m\u001b[0m\n\u001b[0m",
      "\u001b[0;32m~/Tesis/ArchivosPython/main.py\u001b[0m in \u001b[0;36mobtenerJacobianoArticular\u001b[0;34m(n, MTHBase, k, i)\u001b[0m\n\u001b[1;32m    224\u001b[0m \u001b[0;34m\u001b[0m\u001b[0m\n\u001b[1;32m    225\u001b[0m     \u001b[0;31m#Para cada articulacion, derivar parcialmente\u001b[0m\u001b[0;34m\u001b[0m\u001b[0;34m\u001b[0m\u001b[0;34m\u001b[0m\u001b[0m\n\u001b[0;32m--> 226\u001b[0;31m     \u001b[0mP_0k\u001b[0m \u001b[0;34m=\u001b[0m \u001b[0mMTHBase\u001b[0m\u001b[0;34m[\u001b[0m\u001b[0mk\u001b[0m\u001b[0;34m-\u001b[0m\u001b[0;36m1\u001b[0m\u001b[0;34m]\u001b[0m\u001b[0;34m[\u001b[0m\u001b[0;36m0\u001b[0m\u001b[0;34m:\u001b[0m\u001b[0;36m3\u001b[0m\u001b[0;34m,\u001b[0m\u001b[0;36m3\u001b[0m\u001b[0;34m]\u001b[0m\u001b[0;34m\u001b[0m\u001b[0;34m\u001b[0m\u001b[0m\n\u001b[0m\u001b[1;32m    227\u001b[0m \u001b[0;34m\u001b[0m\u001b[0m\n\u001b[1;32m    228\u001b[0m     \u001b[0;31m#Definir la matriz Jacobiana\u001b[0m\u001b[0;34m\u001b[0m\u001b[0;34m\u001b[0m\u001b[0;34m\u001b[0m\u001b[0m\n",
      "\u001b[0;31mTypeError\u001b[0m: 'Add' object is not subscriptable"
     ]
    }
   ],
   "source": [
    "J = obtenerJacobianoArticular(6,T0c,6,0)"
   ]
  },
  {
   "cell_type": "code",
   "execution_count": 6,
   "metadata": {},
   "outputs": [],
   "source": [
    "#Matriz de transformación homogénea de la herramienta respecto a la base"
   ]
  },
  {
   "cell_type": "code",
   "execution_count": 7,
   "metadata": {},
   "outputs": [],
   "source": [
    "#Obtener la posicion del centro de la muñeca con respecto a la base\n",
    "r_0c = T0c[0:3,3]"
   ]
  },
  {
   "cell_type": "code",
   "execution_count": 8,
   "metadata": {},
   "outputs": [],
   "source": [
    "import sympy as sp"
   ]
  },
  {
   "cell_type": "code",
   "execution_count": 9,
   "metadata": {},
   "outputs": [
    {
     "data": {
      "text/latex": [
       "$\\displaystyle \\left[\\begin{matrix}\\left(a_{2} \\cos{\\left(q_{2} \\right)} + d_{4} \\cos{\\left(q_{2} + q_{3} \\right)}\\right) \\cos{\\left(q_{1} \\right)}\\\\\\left(a_{2} \\cos{\\left(q_{2} \\right)} + d_{4} \\cos{\\left(q_{2} + q_{3} \\right)}\\right) \\sin{\\left(q_{1} \\right)}\\\\a_{2} \\sin{\\left(q_{2} \\right)} + d_{1} + d_{4} \\sin{\\left(q_{2} + q_{3} \\right)}\\end{matrix}\\right]$"
      ],
      "text/plain": [
       "Matrix([\n",
       "[(a2*cos(q2) + d4*cos(q2 + q3))*cos(q1)],\n",
       "[(a2*cos(q2) + d4*cos(q2 + q3))*sin(q1)],\n",
       "[     a2*sin(q2) + d1 + d4*sin(q2 + q3)]])"
      ]
     },
     "execution_count": 9,
     "metadata": {},
     "output_type": "execute_result"
    }
   ],
   "source": [
    "r_0c"
   ]
  },
  {
   "cell_type": "code",
   "execution_count": 10,
   "metadata": {},
   "outputs": [
    {
     "name": "stdout",
     "output_type": "stream",
     "text": [
      "Matrix([[(a2*cos(q2) + d4*cos(q2 + q3))*cos(q1)], [(a2*cos(q2) + d4*cos(q2 + q3))*sin(q1)], [a2*sin(q2) + d1 + d4*sin(q2 + q3)]])\n"
     ]
    }
   ],
   "source": [
    "print(r_0c)"
   ]
  },
  {
   "cell_type": "code",
   "execution_count": 11,
   "metadata": {},
   "outputs": [],
   "source": [
    "#Función objetivo a optimizar\n",
    "Dist_square = sp.Pow(r_0c[0],2) + sp.Pow(r_0c[1],2)  + sp.Pow(r_0c[2],2)"
   ]
  },
  {
   "cell_type": "code",
   "execution_count": 12,
   "metadata": {},
   "outputs": [],
   "source": [
    "G = sp.simplify(sp.expand(Dist_square))"
   ]
  },
  {
   "cell_type": "markdown",
   "metadata": {},
   "source": [
    "### Encontrar las derivadas parciales"
   ]
  },
  {
   "cell_type": "code",
   "execution_count": 13,
   "metadata": {},
   "outputs": [
    {
     "data": {
      "text/latex": [
       "$\\displaystyle a_{2}^{2} + 2 a_{2} d_{1} \\sin{\\left(q_{2} \\right)} + 2 a_{2} d_{4} \\cos{\\left(q_{3} \\right)} + d_{1}^{2} + 2 d_{1} d_{4} \\sin{\\left(q_{2} + q_{3} \\right)} + d_{4}^{2}$"
      ],
      "text/plain": [
       "a2**2 + 2*a2*d1*sin(q2) + 2*a2*d4*cos(q3) + d1**2 + 2*d1*d4*sin(q2 + q3) + d4**2"
      ]
     },
     "execution_count": 13,
     "metadata": {},
     "output_type": "execute_result"
    }
   ],
   "source": [
    "G"
   ]
  },
  {
   "cell_type": "code",
   "execution_count": 14,
   "metadata": {},
   "outputs": [],
   "source": [
    "Gq2 = sp.diff(G,sp.symbols(\"q2\"))"
   ]
  },
  {
   "cell_type": "code",
   "execution_count": 15,
   "metadata": {},
   "outputs": [],
   "source": [
    "Gq3= sp.diff(G,sp.symbols(\"q3\"))"
   ]
  },
  {
   "cell_type": "code",
   "execution_count": 16,
   "metadata": {},
   "outputs": [
    {
     "data": {
      "text/latex": [
       "$\\displaystyle 2 d_{1} \\left(a_{2} \\cos{\\left(q_{2} \\right)} + d_{4} \\cos{\\left(q_{2} + q_{3} \\right)}\\right)$"
      ],
      "text/plain": [
       "2*d1*(a2*cos(q2) + d4*cos(q2 + q3))"
      ]
     },
     "execution_count": 16,
     "metadata": {},
     "output_type": "execute_result"
    }
   ],
   "source": [
    "sp.factor(Gq2)"
   ]
  },
  {
   "cell_type": "code",
   "execution_count": 17,
   "metadata": {},
   "outputs": [
    {
     "data": {
      "text/latex": [
       "$\\displaystyle - 2 d_{4} \\left(a_{2} \\sin{\\left(q_{3} \\right)} - d_{1} \\cos{\\left(q_{2} + q_{3} \\right)}\\right)$"
      ],
      "text/plain": [
       "-2*d4*(a2*sin(q3) - d1*cos(q2 + q3))"
      ]
     },
     "execution_count": 17,
     "metadata": {},
     "output_type": "execute_result"
    }
   ],
   "source": [
    "sp.factor(Gq3)"
   ]
  },
  {
   "cell_type": "markdown",
   "metadata": {},
   "source": [
    "### SEgundas derivadas parciales"
   ]
  },
  {
   "cell_type": "code",
   "execution_count": 18,
   "metadata": {},
   "outputs": [],
   "source": [
    "#Primera columna del jacobiano\n",
    "Gq2_2 = sp.diff(Gq2,sp.symbols(\"q2\"))\n",
    "Gq3_2 = sp.diff(Gq3,sp.symbols(\"q2\"))\n",
    "\n",
    "#Segunda columna del jacobiano\n",
    "Gq2_3 = sp.diff(Gq2,sp.symbols(\"q3\"))\n",
    "Gq3_3 = sp.diff(Gq3,sp.symbols(\"q3\"))\n",
    "\n"
   ]
  },
  {
   "cell_type": "code",
   "execution_count": 19,
   "metadata": {},
   "outputs": [],
   "source": [
    "J = sp.Matrix([[Gq2_2,Gq2_3],\n",
    "               [Gq3_2,Gq3_3]])"
   ]
  },
  {
   "cell_type": "code",
   "execution_count": 20,
   "metadata": {},
   "outputs": [
    {
     "data": {
      "text/latex": [
       "$\\displaystyle \\left[\\begin{matrix}- 2 a_{2} d_{1} \\sin{\\left(q_{2} \\right)} - 2 d_{1} d_{4} \\sin{\\left(q_{2} + q_{3} \\right)} & - 2 d_{1} d_{4} \\sin{\\left(q_{2} + q_{3} \\right)}\\\\- 2 d_{1} d_{4} \\sin{\\left(q_{2} + q_{3} \\right)} & - 2 a_{2} d_{4} \\cos{\\left(q_{3} \\right)} - 2 d_{1} d_{4} \\sin{\\left(q_{2} + q_{3} \\right)}\\end{matrix}\\right]$"
      ],
      "text/plain": [
       "Matrix([\n",
       "[-2*a2*d1*sin(q2) - 2*d1*d4*sin(q2 + q3),                   -2*d1*d4*sin(q2 + q3)],\n",
       "[                  -2*d1*d4*sin(q2 + q3), -2*a2*d4*cos(q3) - 2*d1*d4*sin(q2 + q3)]])"
      ]
     },
     "execution_count": 20,
     "metadata": {},
     "output_type": "execute_result"
    }
   ],
   "source": [
    "J"
   ]
  },
  {
   "cell_type": "code",
   "execution_count": 21,
   "metadata": {},
   "outputs": [
    {
     "name": "stdout",
     "output_type": "stream",
     "text": [
      "Matrix([[-2*a2*d1*sin(q2) - 2*d1*d4*sin(q2 + q3), -2*d1*d4*sin(q2 + q3)], [-2*d1*d4*sin(q2 + q3), -2*a2*d4*cos(q3) - 2*d1*d4*sin(q2 + q3)]])\n"
     ]
    }
   ],
   "source": [
    "print(J)"
   ]
  },
  {
   "cell_type": "code",
   "execution_count": 22,
   "metadata": {},
   "outputs": [
    {
     "name": "stdout",
     "output_type": "stream",
     "text": [
      "Matrix([[(a2*cos(q2) + d4*cos(q2 + q3))*cos(q1)], [(a2*cos(q2) + d4*cos(q2 + q3))*sin(q1)], [a2*sin(q2) + d1 + d4*sin(q2 + q3)]])\n"
     ]
    }
   ],
   "source": [
    "print(r_0c)"
   ]
  },
  {
   "cell_type": "code",
   "execution_count": 23,
   "metadata": {},
   "outputs": [],
   "source": [
    "#Obtener la matriz de rotación\n",
    "R_0C = T0c[0:3,0:3]"
   ]
  },
  {
   "cell_type": "code",
   "execution_count": 24,
   "metadata": {},
   "outputs": [
    {
     "name": "stdout",
     "output_type": "stream",
     "text": [
      "((sin(q1)*sin(q4) - sin(q2 + q3)*cos(q1)*cos(q4))*cos(q5) - sin(q5)*cos(q1)*cos(q2 + q3))*cos(q6) + (sin(q1)*cos(q4) + sin(q4)*sin(q2 + q3)*cos(q1))*sin(q6) \n",
      "\n",
      "-((sin(q1)*sin(q4) - sin(q2 + q3)*cos(q1)*cos(q4))*cos(q5) - sin(q5)*cos(q1)*cos(q2 + q3))*sin(q6) + (sin(q1)*cos(q4) + sin(q4)*sin(q2 + q3)*cos(q1))*cos(q6) \n",
      "\n",
      "(sin(q1)*sin(q4) - sin(q2 + q3)*cos(q1)*cos(q4))*sin(q5) + cos(q1)*cos(q5)*cos(q2 + q3) \n",
      "\n",
      "-((sin(q1)*sin(q2 + q3)*cos(q4) + sin(q4)*cos(q1))*cos(q5) + sin(q1)*sin(q5)*cos(q2 + q3))*cos(q6) + (sin(q1)*sin(q4)*sin(q2 + q3) - cos(q1)*cos(q4))*sin(q6) \n",
      "\n",
      "((sin(q1)*sin(q2 + q3)*cos(q4) + sin(q4)*cos(q1))*cos(q5) + sin(q1)*sin(q5)*cos(q2 + q3))*sin(q6) + (sin(q1)*sin(q4)*sin(q2 + q3) - cos(q1)*cos(q4))*cos(q6) \n",
      "\n",
      "-(sin(q1)*sin(q2 + q3)*cos(q4) + sin(q4)*cos(q1))*sin(q5) + sin(q1)*cos(q5)*cos(q2 + q3) \n",
      "\n",
      "-(sin(q5)*sin(q2 + q3) - cos(q4)*cos(q5)*cos(q2 + q3))*cos(q6) - sin(q4)*sin(q6)*cos(q2 + q3) \n",
      "\n",
      "(sin(q5)*sin(q2 + q3) - cos(q4)*cos(q5)*cos(q2 + q3))*sin(q6) - sin(q4)*cos(q6)*cos(q2 + q3) \n",
      "\n",
      "sin(q5)*cos(q4)*cos(q2 + q3) + sin(q2 + q3)*cos(q5) \n",
      "\n"
     ]
    }
   ],
   "source": [
    "for i in range(9):\n",
    "    print(R_0C[i],\"\\n\")"
   ]
  },
  {
   "cell_type": "code",
   "execution_count": 25,
   "metadata": {},
   "outputs": [
    {
     "data": {
      "text/latex": [
       "$\\displaystyle \\left[\\begin{matrix}\\left(\\left(\\sin{\\left(q_{1} \\right)} \\sin{\\left(q_{4} \\right)} - \\sin{\\left(q_{2} + q_{3} \\right)} \\cos{\\left(q_{1} \\right)} \\cos{\\left(q_{4} \\right)}\\right) \\cos{\\left(q_{5} \\right)} - \\sin{\\left(q_{5} \\right)} \\cos{\\left(q_{1} \\right)} \\cos{\\left(q_{2} + q_{3} \\right)}\\right) \\cos{\\left(q_{6} \\right)} + \\left(\\sin{\\left(q_{1} \\right)} \\cos{\\left(q_{4} \\right)} + \\sin{\\left(q_{4} \\right)} \\sin{\\left(q_{2} + q_{3} \\right)} \\cos{\\left(q_{1} \\right)}\\right) \\sin{\\left(q_{6} \\right)} & - \\left(\\left(\\sin{\\left(q_{1} \\right)} \\sin{\\left(q_{4} \\right)} - \\sin{\\left(q_{2} + q_{3} \\right)} \\cos{\\left(q_{1} \\right)} \\cos{\\left(q_{4} \\right)}\\right) \\cos{\\left(q_{5} \\right)} - \\sin{\\left(q_{5} \\right)} \\cos{\\left(q_{1} \\right)} \\cos{\\left(q_{2} + q_{3} \\right)}\\right) \\sin{\\left(q_{6} \\right)} + \\left(\\sin{\\left(q_{1} \\right)} \\cos{\\left(q_{4} \\right)} + \\sin{\\left(q_{4} \\right)} \\sin{\\left(q_{2} + q_{3} \\right)} \\cos{\\left(q_{1} \\right)}\\right) \\cos{\\left(q_{6} \\right)} & \\left(\\sin{\\left(q_{1} \\right)} \\sin{\\left(q_{4} \\right)} - \\sin{\\left(q_{2} + q_{3} \\right)} \\cos{\\left(q_{1} \\right)} \\cos{\\left(q_{4} \\right)}\\right) \\sin{\\left(q_{5} \\right)} + \\cos{\\left(q_{1} \\right)} \\cos{\\left(q_{5} \\right)} \\cos{\\left(q_{2} + q_{3} \\right)}\\\\- \\left(\\left(\\sin{\\left(q_{1} \\right)} \\sin{\\left(q_{2} + q_{3} \\right)} \\cos{\\left(q_{4} \\right)} + \\sin{\\left(q_{4} \\right)} \\cos{\\left(q_{1} \\right)}\\right) \\cos{\\left(q_{5} \\right)} + \\sin{\\left(q_{1} \\right)} \\sin{\\left(q_{5} \\right)} \\cos{\\left(q_{2} + q_{3} \\right)}\\right) \\cos{\\left(q_{6} \\right)} + \\left(\\sin{\\left(q_{1} \\right)} \\sin{\\left(q_{4} \\right)} \\sin{\\left(q_{2} + q_{3} \\right)} - \\cos{\\left(q_{1} \\right)} \\cos{\\left(q_{4} \\right)}\\right) \\sin{\\left(q_{6} \\right)} & \\left(\\left(\\sin{\\left(q_{1} \\right)} \\sin{\\left(q_{2} + q_{3} \\right)} \\cos{\\left(q_{4} \\right)} + \\sin{\\left(q_{4} \\right)} \\cos{\\left(q_{1} \\right)}\\right) \\cos{\\left(q_{5} \\right)} + \\sin{\\left(q_{1} \\right)} \\sin{\\left(q_{5} \\right)} \\cos{\\left(q_{2} + q_{3} \\right)}\\right) \\sin{\\left(q_{6} \\right)} + \\left(\\sin{\\left(q_{1} \\right)} \\sin{\\left(q_{4} \\right)} \\sin{\\left(q_{2} + q_{3} \\right)} - \\cos{\\left(q_{1} \\right)} \\cos{\\left(q_{4} \\right)}\\right) \\cos{\\left(q_{6} \\right)} & - \\left(\\sin{\\left(q_{1} \\right)} \\sin{\\left(q_{2} + q_{3} \\right)} \\cos{\\left(q_{4} \\right)} + \\sin{\\left(q_{4} \\right)} \\cos{\\left(q_{1} \\right)}\\right) \\sin{\\left(q_{5} \\right)} + \\sin{\\left(q_{1} \\right)} \\cos{\\left(q_{5} \\right)} \\cos{\\left(q_{2} + q_{3} \\right)}\\\\- \\left(\\sin{\\left(q_{5} \\right)} \\sin{\\left(q_{2} + q_{3} \\right)} - \\cos{\\left(q_{4} \\right)} \\cos{\\left(q_{5} \\right)} \\cos{\\left(q_{2} + q_{3} \\right)}\\right) \\cos{\\left(q_{6} \\right)} - \\sin{\\left(q_{4} \\right)} \\sin{\\left(q_{6} \\right)} \\cos{\\left(q_{2} + q_{3} \\right)} & \\left(\\sin{\\left(q_{5} \\right)} \\sin{\\left(q_{2} + q_{3} \\right)} - \\cos{\\left(q_{4} \\right)} \\cos{\\left(q_{5} \\right)} \\cos{\\left(q_{2} + q_{3} \\right)}\\right) \\sin{\\left(q_{6} \\right)} - \\sin{\\left(q_{4} \\right)} \\cos{\\left(q_{6} \\right)} \\cos{\\left(q_{2} + q_{3} \\right)} & \\sin{\\left(q_{5} \\right)} \\cos{\\left(q_{4} \\right)} \\cos{\\left(q_{2} + q_{3} \\right)} + \\sin{\\left(q_{2} + q_{3} \\right)} \\cos{\\left(q_{5} \\right)}\\end{matrix}\\right]$"
      ],
      "text/plain": [
       "Matrix([\n",
       "[ ((sin(q1)*sin(q4) - sin(q2 + q3)*cos(q1)*cos(q4))*cos(q5) - sin(q5)*cos(q1)*cos(q2 + q3))*cos(q6) + (sin(q1)*cos(q4) + sin(q4)*sin(q2 + q3)*cos(q1))*sin(q6), -((sin(q1)*sin(q4) - sin(q2 + q3)*cos(q1)*cos(q4))*cos(q5) - sin(q5)*cos(q1)*cos(q2 + q3))*sin(q6) + (sin(q1)*cos(q4) + sin(q4)*sin(q2 + q3)*cos(q1))*cos(q6),  (sin(q1)*sin(q4) - sin(q2 + q3)*cos(q1)*cos(q4))*sin(q5) + cos(q1)*cos(q5)*cos(q2 + q3)],\n",
       "[-((sin(q1)*sin(q2 + q3)*cos(q4) + sin(q4)*cos(q1))*cos(q5) + sin(q1)*sin(q5)*cos(q2 + q3))*cos(q6) + (sin(q1)*sin(q4)*sin(q2 + q3) - cos(q1)*cos(q4))*sin(q6),  ((sin(q1)*sin(q2 + q3)*cos(q4) + sin(q4)*cos(q1))*cos(q5) + sin(q1)*sin(q5)*cos(q2 + q3))*sin(q6) + (sin(q1)*sin(q4)*sin(q2 + q3) - cos(q1)*cos(q4))*cos(q6), -(sin(q1)*sin(q2 + q3)*cos(q4) + sin(q4)*cos(q1))*sin(q5) + sin(q1)*cos(q5)*cos(q2 + q3)],\n",
       "[                                                                -(sin(q5)*sin(q2 + q3) - cos(q4)*cos(q5)*cos(q2 + q3))*cos(q6) - sin(q4)*sin(q6)*cos(q2 + q3),                                                                  (sin(q5)*sin(q2 + q3) - cos(q4)*cos(q5)*cos(q2 + q3))*sin(q6) - sin(q4)*cos(q6)*cos(q2 + q3),                                      sin(q5)*cos(q4)*cos(q2 + q3) + sin(q2 + q3)*cos(q5)]])"
      ]
     },
     "execution_count": 25,
     "metadata": {},
     "output_type": "execute_result"
    }
   ],
   "source": [
    "R_0C[0:3,0:3]"
   ]
  },
  {
   "cell_type": "code",
   "execution_count": 26,
   "metadata": {},
   "outputs": [],
   "source": [
    "R3c = matricesArt[3]*matricesArt[4]*matricesArt[5]"
   ]
  },
  {
   "cell_type": "code",
   "execution_count": 27,
   "metadata": {},
   "outputs": [
    {
     "data": {
      "text/latex": [
       "$\\displaystyle \\left[\\begin{matrix}1 & 0 & 0\\\\0 & 0 & -1\\\\0 & 1 & 0\\end{matrix}\\right]$"
      ],
      "text/plain": [
       "Matrix([\n",
       "[1, 0,  0],\n",
       "[0, 0, -1],\n",
       "[0, 1,  0]])"
      ]
     },
     "execution_count": 27,
     "metadata": {},
     "output_type": "execute_result"
    }
   ],
   "source": [
    "R3c[0:3,0:3].subs([(sp.symbols(\"q4\"),0),(sp.symbols(\"q5\"),0),(sp.symbols(\"q6\"),0)])"
   ]
  },
  {
   "cell_type": "code",
   "execution_count": 28,
   "metadata": {},
   "outputs": [],
   "source": [
    "#Obtener R04\n",
    "R04 = sp.simplify(matricesArt[0]*matricesArt[1]*matricesArt[2]*matricesArt[3])"
   ]
  },
  {
   "cell_type": "code",
   "execution_count": 29,
   "metadata": {},
   "outputs": [
    {
     "name": "stdout",
     "output_type": "stream",
     "text": [
      "Matrix([[-sin(q2 + q3)*cos(q1), sin(q1), cos(q1)*cos(q2 + q3)], [-sin(q1)*sin(q2 + q3), -cos(q1), sin(q1)*cos(q2 + q3)], [cos(q2 + q3), 0, sin(q2 + q3)]])\n"
     ]
    }
   ],
   "source": [
    "print(R04.subs([(sp.symbols(\"q4\"),0)])[0:3,0:3])"
   ]
  },
  {
   "cell_type": "code",
   "execution_count": 30,
   "metadata": {},
   "outputs": [],
   "source": [
    "R03 =sp.simplify(matricesArt[0]*matricesArt[1]*matricesArt[2])[0:3,0:3]"
   ]
  },
  {
   "cell_type": "code",
   "execution_count": 31,
   "metadata": {},
   "outputs": [
    {
     "name": "stdout",
     "output_type": "stream",
     "text": [
      "Matrix([[-sin(q2 + q3)*cos(q1), -cos(q1)*cos(q2 + q3), sin(q1)], [-sin(q1)*sin(q2 + q3), -sin(q1)*cos(q2 + q3), -cos(q1)], [cos(q2 + q3), -sin(q2 + q3), 0]])\n"
     ]
    }
   ],
   "source": [
    "print(R03)"
   ]
  },
  {
   "cell_type": "code",
   "execution_count": 32,
   "metadata": {},
   "outputs": [
    {
     "data": {
      "text/latex": [
       "$\\displaystyle \\left[\\begin{matrix}- \\sin{\\left(q_{2} + q_{3} \\right)} \\cos{\\left(q_{1} \\right)} & - \\cos{\\left(q_{1} \\right)} \\cos{\\left(q_{2} + q_{3} \\right)} & \\sin{\\left(q_{1} \\right)}\\\\- \\sin{\\left(q_{1} \\right)} \\sin{\\left(q_{2} + q_{3} \\right)} & - \\sin{\\left(q_{1} \\right)} \\cos{\\left(q_{2} + q_{3} \\right)} & - \\cos{\\left(q_{1} \\right)}\\\\\\cos{\\left(q_{2} + q_{3} \\right)} & - \\sin{\\left(q_{2} + q_{3} \\right)} & 0\\end{matrix}\\right]$"
      ],
      "text/plain": [
       "Matrix([\n",
       "[-sin(q2 + q3)*cos(q1), -cos(q1)*cos(q2 + q3),  sin(q1)],\n",
       "[-sin(q1)*sin(q2 + q3), -sin(q1)*cos(q2 + q3), -cos(q1)],\n",
       "[         cos(q2 + q3),         -sin(q2 + q3),        0]])"
      ]
     },
     "execution_count": 32,
     "metadata": {},
     "output_type": "execute_result"
    }
   ],
   "source": [
    "R03"
   ]
  },
  {
   "cell_type": "code",
   "execution_count": null,
   "metadata": {},
   "outputs": [],
   "source": []
  }
 ],
 "metadata": {
  "kernelspec": {
   "display_name": "Python 3",
   "language": "python",
   "name": "python3"
  },
  "language_info": {
   "codemirror_mode": {
    "name": "ipython",
    "version": 3
   },
   "file_extension": ".py",
   "mimetype": "text/x-python",
   "name": "python",
   "nbconvert_exporter": "python",
   "pygments_lexer": "ipython3",
   "version": "3.8.10"
  }
 },
 "nbformat": 4,
 "nbformat_minor": 4
}
