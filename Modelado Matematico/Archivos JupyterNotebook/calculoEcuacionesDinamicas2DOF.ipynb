{
 "cells": [
  {
   "cell_type": "markdown",
   "metadata": {},
   "source": [
    "# CÁLCULO DE LAS ECUACIONES DINÁMICAS DEL ROBOT DE 2 GRADOS DE LIBERTAD"
   ]
  },
  {
   "cell_type": "markdown",
   "metadata": {},
   "source": [
    "### Importar los módulos"
   ]
  },
  {
   "cell_type": "code",
   "execution_count": 1,
   "metadata": {},
   "outputs": [],
   "source": [
    "from main import *\n",
    "import sympy as sp\n",
    "import numpy as np\n",
    "import time"
   ]
  },
  {
   "cell_type": "markdown",
   "metadata": {},
   "source": [
    "### Definir los grados de libertad"
   ]
  },
  {
   "cell_type": "code",
   "execution_count": 2,
   "metadata": {},
   "outputs": [],
   "source": [
    "n = 2"
   ]
  },
  {
   "cell_type": "markdown",
   "metadata": {},
   "source": [
    "### Definir los arreglos para los vinculos"
   ]
  },
  {
   "cell_type": "code",
   "execution_count": 3,
   "metadata": {},
   "outputs": [],
   "source": [
    "As,Alfas,Ds,Qs = obtenerParametrosRobot(n)"
   ]
  },
  {
   "cell_type": "markdown",
   "metadata": {},
   "source": [
    "### Obtener los valores cinemáticos"
   ]
  },
  {
   "cell_type": "code",
   "execution_count": 4,
   "metadata": {},
   "outputs": [],
   "source": [
    "omega,alfa,al,alCM,qd,qdd = obtenerValoresCinematicos(n)"
   ]
  },
  {
   "cell_type": "markdown",
   "metadata": {},
   "source": [
    "### Obtener los valores dinámicos"
   ]
  },
  {
   "cell_type": "code",
   "execution_count": 5,
   "metadata": {},
   "outputs": [],
   "source": [
    "aMasas,aTensores,aCentroGravedad = obtenerValoresDinamicos(n)"
   ]
  },
  {
   "cell_type": "markdown",
   "metadata": {},
   "source": [
    "### Iterar para obtener las MTH en base a las articulaciones"
   ]
  },
  {
   "cell_type": "code",
   "execution_count": 6,
   "metadata": {},
   "outputs": [],
   "source": [
    "MTHart = []\n",
    "Rs = []\n",
    "Ps = []\n",
    "\n",
    "for i in range(n): #+1 por la trama del efector final\n",
    "    MTHart.append(obtenerMTHArticulaciones(Alfas[i],As[i],Ds[i],Qs[i]))\n",
    "    Rs.append(MTHart[i][0:3,0:3])\n",
    "    Ps.append(MTHart[i][0:3,3])\n",
    "\n",
    "\n",
    "#Añadir la del efector final\n",
    "MTHart.append(sp.Matrix([[1,0,0,sp.symbols(\"L\" + str(n))],\n",
    "                         [0,1,0,0],\n",
    "                         [0,0,1,0],\n",
    "                         [0,0,0,1]]))\n",
    "Rs.append(MTHart[n][0:3,0:3])\n",
    "Ps.append(MTHart[n][0:3,3])"
   ]
  },
  {
   "cell_type": "markdown",
   "metadata": {},
   "source": [
    "### Cálculo de las iteraciones salientes"
   ]
  },
  {
   "cell_type": "code",
   "execution_count": 7,
   "metadata": {},
   "outputs": [
    {
     "name": "stdout",
     "output_type": "stream",
     "text": [
      "Iteracion saliente  0\n",
      "Calculando omega1\n",
      "Calculando alfa1\n",
      "Calculando al1\n",
      "Calculando alCM1\n",
      "Calculando F1\n",
      "Calculando N1\n",
      "Iteracion saliente  1\n",
      "Calculando omega2\n",
      "Calculando alfa2\n",
      "Calculando al2\n",
      "Calculando alCM2\n",
      "Calculando F2\n",
      "Calculando N2\n"
     ]
    }
   ],
   "source": [
    "#Tiempo inicial\n",
    "ti = time.time()\n",
    "\n",
    "tiis = time.time()\n",
    "\n",
    "F,N = calcularIteracionesSalientes(Rs,Ps,omega,alfa,al,alCM,qd,qdd,aMasas,aTensores,aCentroGravedad)\n",
    "\n",
    "tfis = time.time()"
   ]
  },
  {
   "cell_type": "markdown",
   "metadata": {},
   "source": [
    "### Cálculo de las iteraciones entrantes"
   ]
  },
  {
   "cell_type": "code",
   "execution_count": 8,
   "metadata": {},
   "outputs": [
    {
     "name": "stdout",
     "output_type": "stream",
     "text": [
      "Iteracion entrante  2\n",
      "Calculando F2\n",
      "Calculando nt2\n",
      "Calculando tau2\n",
      "Iteracion entrante  1\n",
      "Calculando F1\n",
      "Calculando nt1\n",
      "Calculando tau1\n"
     ]
    }
   ],
   "source": [
    "tiie = time.time()\n",
    "\n",
    "tau = calcularIteracionesEntrantes(Rs,Ps,aCentroGravedad,F,N)\n",
    "\n",
    "tfie = time.time()\n",
    "\n",
    "#Tiempo final \n",
    "tf = time.time()"
   ]
  },
  {
   "cell_type": "code",
   "execution_count": 9,
   "metadata": {},
   "outputs": [
    {
     "name": "stdout",
     "output_type": "stream",
     "text": [
      "El algoritmo Newton-Euler demoró: 8.19639778137207\n",
      "Las iteraciones salientes demoraron: 1.0272819995880127\n",
      "Las iteraciones entrantes demoraron: 7.164694786071777\n"
     ]
    }
   ],
   "source": [
    "print(\"El algoritmo Newton-Euler demoró: \" + str(tf-ti) + \"\\nLas iteraciones salientes demoraron: \" + str(tfis-tiis) +\n",
    "     \"\\nLas iteraciones entrantes demoraron: \" + str(tfie-tiie))"
   ]
  },
  {
   "cell_type": "markdown",
   "metadata": {},
   "source": [
    "### Torque 2"
   ]
  },
  {
   "cell_type": "code",
   "execution_count": 10,
   "metadata": {},
   "outputs": [
    {
     "data": {
      "text/latex": [
       "$\\displaystyle Izz_{2} \\left(\\ddot{q}_1 + \\ddot{q}_2\\right) + Xcm_{2} m_{2} \\left(L_{1} \\ddot{q}_1 \\cos{\\left(q_{2} \\right)} + L_{1} \\dot{q}_1^{2} \\sin{\\left(q_{2} \\right)} + Xcm_{2} \\left(\\ddot{q}_1 + \\ddot{q}_2\\right) + g \\cos{\\left(q_{1} + q_{2} \\right)}\\right)$"
      ],
      "text/plain": [
       "Izz2*(\\ddot{q}_1 + \\ddot{q}_2) + Xcm2*m2*(L1*\\ddot{q}_1*cos(q2) + L1*\\dot{q}_1**2*sin(q2) + Xcm2*(\\ddot{q}_1 + \\ddot{q}_2) + g*cos(q1 + q2))"
      ]
     },
     "execution_count": 10,
     "metadata": {},
     "output_type": "execute_result"
    }
   ],
   "source": [
    "tau[2]"
   ]
  },
  {
   "cell_type": "markdown",
   "metadata": {},
   "source": [
    "### Torque 1"
   ]
  },
  {
   "cell_type": "code",
   "execution_count": 11,
   "metadata": {},
   "outputs": [
    {
     "data": {
      "text/latex": [
       "$\\displaystyle Izz_{1} \\ddot{q}_1 + Izz_{2} \\ddot{q}_1 + Izz_{2} \\ddot{q}_2 + L_{1}^{2} \\ddot{q}_1 m_{2} + 2 L_{1} Xcm_{2} \\ddot{q}_1 m_{2} \\cos{\\left(q_{2} \\right)} + L_{1} Xcm_{2} \\ddot{q}_2 m_{2} \\cos{\\left(q_{2} \\right)} - 2 L_{1} Xcm_{2} \\dot{q}_1 \\dot{q}_2 m_{2} \\sin{\\left(q_{2} \\right)} - L_{1} Xcm_{2} \\dot{q}_2^{2} m_{2} \\sin{\\left(q_{2} \\right)} + L_{1} g m_{2} \\cos{\\left(q_{1} \\right)} + Xcm_{1}^{2} \\ddot{q}_1 m_{1} + Xcm_{1} g m_{1} \\cos{\\left(q_{1} \\right)} + Xcm_{2}^{2} \\ddot{q}_1 m_{2} + Xcm_{2}^{2} \\ddot{q}_2 m_{2} + Xcm_{2} g m_{2} \\cos{\\left(q_{1} + q_{2} \\right)}$"
      ],
      "text/plain": [
       "Izz1*\\ddot{q}_1 + Izz2*\\ddot{q}_1 + Izz2*\\ddot{q}_2 + L1**2*\\ddot{q}_1*m2 + 2*L1*Xcm2*\\ddot{q}_1*m2*cos(q2) + L1*Xcm2*\\ddot{q}_2*m2*cos(q2) - 2*L1*Xcm2*\\dot{q}_1*\\dot{q}_2*m2*sin(q2) - L1*Xcm2*\\dot{q}_2**2*m2*sin(q2) + L1*g*m2*cos(q1) + Xcm1**2*\\ddot{q}_1*m1 + Xcm1*g*m1*cos(q1) + Xcm2**2*\\ddot{q}_1*m2 + Xcm2**2*\\ddot{q}_2*m2 + Xcm2*g*m2*cos(q1 + q2)"
      ]
     },
     "execution_count": 11,
     "metadata": {},
     "output_type": "execute_result"
    }
   ],
   "source": [
    "tau[1]"
   ]
  },
  {
   "cell_type": "markdown",
   "metadata": {},
   "source": [
    "# FIN XD"
   ]
  }
 ],
 "metadata": {
  "kernelspec": {
   "display_name": "Python 3",
   "language": "python",
   "name": "python3"
  },
  "language_info": {
   "codemirror_mode": {
    "name": "ipython",
    "version": 3
   },
   "file_extension": ".py",
   "mimetype": "text/x-python",
   "name": "python",
   "nbconvert_exporter": "python",
   "pygments_lexer": "ipython3",
   "version": "3.9.2"
  }
 },
 "nbformat": 4,
 "nbformat_minor": 4
}
